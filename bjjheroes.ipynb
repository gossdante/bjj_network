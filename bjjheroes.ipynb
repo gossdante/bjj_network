{
 "cells": [
  {
   "cell_type": "markdown",
   "metadata": {},
   "source": [
    "# BjjHeroes\n",
    "\n",
    "bjjheroes.com is a website with more up to date match data than flograppling, so it would be useful to scrape data from here."
   ]
  },
  {
   "cell_type": "code",
   "execution_count": 5,
   "metadata": {},
   "outputs": [],
   "source": [
    "import urllib.request, urllib.parse, urllib.error\n",
    "from bs4 import BeautifulSoup\n",
    "import pandas as pd\n",
    "import numpy as np\n",
    "import requests\n",
    "import json\n",
    "# HEADERS = {'User-Agent': 'Mozilla/5.0 (iPad; CPU OS 12_2 like Mac OS X) AppleWebKit/605.1.15 (KHTML, like Gecko) Mobile/15E148'}"
   ]
  },
  {
   "cell_type": "markdown",
   "metadata": {},
   "source": [
    "## Get All athletes from list\n",
    "link: https://www.bjjheroes.com/a-z-bjj-fighters-list"
   ]
  },
  {
   "cell_type": "code",
   "execution_count": 16,
   "metadata": {},
   "outputs": [],
   "source": [
    "r = requests.get('https://www.bjjheroes.com/a-z-bjj-fighters-list')\n",
    "soup = BeautifulSoup(r.text, 'html.parser')\n",
    "# print(soup)"
   ]
  },
  {
   "cell_type": "markdown",
   "metadata": {},
   "source": [
    "#soup.find_all('tbody')\n",
    "\n",
    "#First Name\n",
    "soup.find_all('td',class_='column-1')\n",
    "\n",
    "#Last Name\n",
    "soup.find_all('td',class_='column-2')\n",
    "\n",
    "#Nickname\n",
    "soup.find_all('td',class_='column-3')\n",
    "\n",
    "#Team\n",
    "soup.find_all('td',class_='column-4')\n"
   ]
  },
  {
   "cell_type": "code",
   "execution_count": 105,
   "metadata": {},
   "outputs": [],
   "source": [
    "new = soup.find_all('tbody')\n",
    "new = new[0]\n",
    "Athletes = pd.DataFrame(index=range(10000),columns=['First','Last','Nickname','Team','Link'])\n",
    "row = 0\n",
    "for n in new.find_all('td', class_ = 'column-1'):\n",
    "    #print(n('a'))\n",
    "    href = n('a')[0].get('href')\n",
    "    first = n('a')[0].get_text()\n",
    "    Athletes.iloc[row,0] = first\n",
    "    Athletes.iloc[row,4] = href\n",
    "    row = row +1\n",
    "\n",
    "row = 0\n",
    "for n in new.find_all('td', class_ = 'column-2'):\n",
    "    last = n('a')[0].get_text()\n",
    "    Athletes.iloc[row,1] = last\n",
    "    row = row +1\n",
    "try:\n",
    "    row = 0\n",
    "    for n in new.find_all('td', class_ = 'column-3'):\n",
    "        nickname = n('a')[0].get_text()\n",
    "        Athletes.iloc[row,2] = nickname\n",
    "        row = row +1\n",
    "    \n",
    "    row = 0\n",
    "    for n in new.find_all('td', class_ = 'column-4'):\n",
    "        team = n('a')[0].get_text()\n",
    "        Athletes.iloc[row,3] = team\n",
    "        row = row +1\n",
    "except:\n",
    "    pass\n",
    "\n",
    "# Drop Missing Rows\n",
    "Athletes = Athletes.dropna(axis=0,how='all')"
   ]
  },
  {
   "cell_type": "code",
   "execution_count": 108,
   "metadata": {},
   "outputs": [
    {
     "data": {
      "text/html": [
       "<div>\n",
       "<style scoped>\n",
       "    .dataframe tbody tr th:only-of-type {\n",
       "        vertical-align: middle;\n",
       "    }\n",
       "\n",
       "    .dataframe tbody tr th {\n",
       "        vertical-align: top;\n",
       "    }\n",
       "\n",
       "    .dataframe thead th {\n",
       "        text-align: right;\n",
       "    }\n",
       "</style>\n",
       "<table border=\"1\" class=\"dataframe\">\n",
       "  <thead>\n",
       "    <tr style=\"text-align: right;\">\n",
       "      <th></th>\n",
       "      <th>First</th>\n",
       "      <th>Last</th>\n",
       "      <th>Nickname</th>\n",
       "      <th>Team</th>\n",
       "      <th>Link</th>\n",
       "    </tr>\n",
       "  </thead>\n",
       "  <tbody>\n",
       "    <tr>\n",
       "      <th>1331</th>\n",
       "      <td>Valdir</td>\n",
       "      <td>Canuto</td>\n",
       "      <td>NaN</td>\n",
       "      <td>NaN</td>\n",
       "      <td>/?p=7505</td>\n",
       "    </tr>\n",
       "    <tr>\n",
       "      <th>1332</th>\n",
       "      <td>Nakapan</td>\n",
       "      <td>Phungephorn</td>\n",
       "      <td>NaN</td>\n",
       "      <td>NaN</td>\n",
       "      <td>/?p=7512</td>\n",
       "    </tr>\n",
       "    <tr>\n",
       "      <th>1333</th>\n",
       "      <td>Eliot</td>\n",
       "      <td>Kelly</td>\n",
       "      <td>NaN</td>\n",
       "      <td>NaN</td>\n",
       "      <td>/?p=7519</td>\n",
       "    </tr>\n",
       "    <tr>\n",
       "      <th>1334</th>\n",
       "      <td>Mauricio</td>\n",
       "      <td>Pereira</td>\n",
       "      <td>NaN</td>\n",
       "      <td>NaN</td>\n",
       "      <td>/?p=7556</td>\n",
       "    </tr>\n",
       "    <tr>\n",
       "      <th>1335</th>\n",
       "      <td>Vinicius</td>\n",
       "      <td>Garcia</td>\n",
       "      <td>NaN</td>\n",
       "      <td>NaN</td>\n",
       "      <td>/?p=7636</td>\n",
       "    </tr>\n",
       "  </tbody>\n",
       "</table>\n",
       "</div>"
      ],
      "text/plain": [
       "         First         Last Nickname Team      Link\n",
       "1331    Valdir       Canuto      NaN  NaN  /?p=7505\n",
       "1332   Nakapan  Phungephorn      NaN  NaN  /?p=7512\n",
       "1333     Eliot        Kelly      NaN  NaN  /?p=7519\n",
       "1334  Mauricio      Pereira      NaN  NaN  /?p=7556\n",
       "1335  Vinicius       Garcia      NaN  NaN  /?p=7636"
      ]
     },
     "execution_count": 108,
     "metadata": {},
     "output_type": "execute_result"
    }
   ],
   "source": [
    "Athletes.tail()"
   ]
  },
  {
   "cell_type": "code",
   "execution_count": null,
   "metadata": {},
   "outputs": [],
   "source": []
  }
 ],
 "metadata": {
  "kernelspec": {
   "display_name": "Python 3",
   "language": "python",
   "name": "python3"
  },
  "language_info": {
   "codemirror_mode": {
    "name": "ipython",
    "version": 3
   },
   "file_extension": ".py",
   "mimetype": "text/x-python",
   "name": "python",
   "nbconvert_exporter": "python",
   "pygments_lexer": "ipython3",
   "version": "3.10.11"
  }
 },
 "nbformat": 4,
 "nbformat_minor": 2
}
